{
 "cells": [
  {
   "cell_type": "markdown",
   "id": "bf4d763f",
   "metadata": {},
   "source": [
    "# Read Data from JSON"
   ]
  },
  {
   "cell_type": "code",
   "execution_count": null,
   "id": "7c556ee8",
   "metadata": {},
   "outputs": [],
   "source": [
    "import json"
   ]
  },
  {
   "cell_type": "code",
   "execution_count": null,
   "id": "e4b2fddb",
   "metadata": {},
   "outputs": [],
   "source": [
    "fd = open('record.json','r')\n",
    "r = fd.read()\n",
    "fd.close()"
   ]
  },
  {
   "cell_type": "code",
   "execution_count": null,
   "id": "371e7bf9",
   "metadata": {
    "scrolled": true
   },
   "outputs": [],
   "source": [
    "r"
   ]
  },
  {
   "cell_type": "code",
   "execution_count": null,
   "id": "8930ea40",
   "metadata": {},
   "outputs": [],
   "source": [
    "record = json.loads(r)"
   ]
  },
  {
   "cell_type": "code",
   "execution_count": null,
   "id": "48551912",
   "metadata": {},
   "outputs": [],
   "source": [
    "record"
   ]
  },
  {
   "cell_type": "code",
   "execution_count": null,
   "id": "2f9e919f",
   "metadata": {},
   "outputs": [],
   "source": [
    "#Adding new products to the inventory or updating the quantity\n",
    "product_id = str(input('Enter product id: '))\n",
    "product_name = str(input('Enter name of the product: '))\n",
    "quantity = int(input('Enter quantity of the product: '))\n",
    "unit_price = int(input('Enter unit price of the item: '))\n",
    "discount = float(input('Enter discount of that product: '))\n",
    "\n",
    "if product_id in record.keys():\n",
    "    record[product_id]['quantity'] = record[product_id]['quantity'] + quantity\n",
    "    print('\\n')\n",
    "    print('*****Product inventory is updated*****')\n",
    "    \n",
    "else:\n",
    "    record[product_id] = {'product_name': product_name, 'quantity': quantity, 'unit_price': unit_price, 'discount': discount}\n",
    "    print('\\n')\n",
    "    print('*****New product inventory is added*****')\n",
    "    \n",
    "\n",
    "#laoding the updated data into record.json file\n",
    "\n",
    "js = json.dumps(record)\n",
    "fd = open('record.json','w')\n",
    "fd.write(js)\n",
    "fd.close()"
   ]
  },
  {
   "cell_type": "code",
   "execution_count": null,
   "id": "9260c84c",
   "metadata": {},
   "outputs": [],
   "source": [
    "record"
   ]
  }
 ],
 "metadata": {
  "kernelspec": {
   "display_name": "Python 3",
   "language": "python",
   "name": "python3"
  },
  "language_info": {
   "codemirror_mode": {
    "name": "ipython",
    "version": 3
   },
   "file_extension": ".py",
   "mimetype": "text/x-python",
   "name": "python",
   "nbconvert_exporter": "python",
   "pygments_lexer": "ipython3",
   "version": "3.8.8"
  }
 },
 "nbformat": 4,
 "nbformat_minor": 5
}
